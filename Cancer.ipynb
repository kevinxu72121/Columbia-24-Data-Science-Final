{
 "cells": [
  {
   "cell_type": "code",
   "execution_count": 51,
   "id": "1396a6bf-a99f-42ed-a073-d69b86cc6bb3",
   "metadata": {},
   "outputs": [],
   "source": [
    "import pandas as pd\n",
    "import numpy as np\n",
    "import matplotlib.pyplot as plt\n",
    "from sklearn import neighbors, linear_model\n",
    "from sklearn.datasets import load_breast_cancer\n",
    "from sklearn.preprocessing import StandardScaler\n",
    "from sklearn.metrics import classification_report\n",
    "import warnings\n",
    "warnings.filterwarnings('ignore')\n",
    "\n",
    "df = pd.DataFrame(load_breast_cancer().data, columns = load_breast_cancer().feature_names)\n",
    "df = df[[i for i in df.columns if 'mean' in i]]\n",
    "x_train = df.sample(n=100)\n",
    "x_test = pd.merge(df,x_train, indicator=True, how='outer').query('_merge==\"left_only\"').drop('_merge', axis=1)\n",
    "y_train = np.where((x_train['mean radius'] >= 15) | \n",
    "                            (x_train['mean texture'] >= 20) | \n",
    "                            (x_train['mean perimeter'] >= 90) | \n",
    "                            (x_train['mean area'] >= 600) | \n",
    "                            (x_train['mean compactness'] >= 0.2) | \n",
    "                            (x_train['mean concave points'] >= 0.05), 'Malignant', 'Benign')\n",
    "y_test = np.where((x_test['mean radius'] >= 15) | \n",
    "                            (x_test['mean texture'] >= 20) | \n",
    "                            (x_test['mean perimeter'] >= 90) | \n",
    "                            (x_test['mean area'] >= 600) | \n",
    "                            (x_test['mean compactness'] >= 0.2) | \n",
    "                            (x_test['mean concave points'] >= 0.05), 'Malignant', 'Benign')\n",
    "\n",
    "scaler = StandardScaler()\n",
    "x_train = scaler.fit_transform(x_train)\n",
    "x_test = scaler.transform(x_test)"
   ]
  },
  {
   "cell_type": "code",
   "execution_count": 53,
   "id": "515121a6-c1a8-4658-b727-b474367bf4d0",
   "metadata": {},
   "outputs": [
    {
     "name": "stdout",
     "output_type": "stream",
     "text": [
      "              precision    recall  f1-score   support\n",
      "\n",
      "      Benign       0.78      0.94      0.85       177\n",
      "   Malignant       0.96      0.84      0.89       292\n",
      "\n",
      "    accuracy                           0.88       469\n",
      "   macro avg       0.87      0.89      0.87       469\n",
      "weighted avg       0.89      0.88      0.88       469\n",
      "\n",
      "              precision    recall  f1-score   support\n",
      "\n",
      "      Benign       0.80      0.90      0.85       177\n",
      "   Malignant       0.94      0.87      0.90       292\n",
      "\n",
      "    accuracy                           0.88       469\n",
      "   macro avg       0.87      0.89      0.88       469\n",
      "weighted avg       0.89      0.88      0.88       469\n",
      "\n"
     ]
    }
   ],
   "source": [
    "best_k = 0\n",
    "best_accuracy = 0\n",
    "for i in range(1, 20):\n",
    "    knn = neighbors.KNeighborsClassifier(n_neighbors=i)\n",
    "    y_pred=knn.fit(x_train,y_train).predict(x_test)\n",
    "    if classification_report(y_test, y_pred, output_dict=True)['accuracy'] > best_accuracy:\n",
    "        best_k = i\n",
    "        best_accuracy = classification_report(y_test, y_pred, output_dict=True)['accuracy']\n",
    "\n",
    "knn = neighbors.KNeighborsClassifier(n_neighbors=best_k)\n",
    "y_pred=knn.fit(x_train,y_train).predict(x_test)\n",
    "print(classification_report(y_test, y_pred))\n",
    "\n",
    "lreg = LogisticRegression()\n",
    "print(classification_report(y_test, lreg.fit(x_train, y_train).predict(x_test)))"
   ]
  },
  {
   "cell_type": "code",
   "execution_count": null,
   "id": "be611eb3-2441-4609-89f8-b23318f55c09",
   "metadata": {},
   "outputs": [],
   "source": []
  }
 ],
 "metadata": {
  "kernelspec": {
   "display_name": "Python 3 (ipykernel)",
   "language": "python",
   "name": "python3"
  },
  "language_info": {
   "codemirror_mode": {
    "name": "ipython",
    "version": 3
   },
   "file_extension": ".py",
   "mimetype": "text/x-python",
   "name": "python",
   "nbconvert_exporter": "python",
   "pygments_lexer": "ipython3",
   "version": "3.12.4"
  }
 },
 "nbformat": 4,
 "nbformat_minor": 5
}
