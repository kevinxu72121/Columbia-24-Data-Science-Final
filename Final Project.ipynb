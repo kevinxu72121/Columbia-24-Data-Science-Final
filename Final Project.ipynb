{
 "cells": [
  {
   "cell_type": "code",
   "execution_count": 3,
   "id": "dd4a20d0-1594-451e-96d2-bd7950ab002e",
   "metadata": {},
   "outputs": [],
   "source": [
    "import pandas as pd\n",
    "import numpy as np\n",
    "import matplotlib.pyplot as plt\n",
    "import seaborn as sns\n",
    "import statsmodels.api as sm\n",
    "from sklearn import neighbors, preprocessing\n",
    "from sklearn.metrics import confusion_matrix, classification_report\n",
    "import warnings\n",
    "\n",
    "warnings.filterwarnings(\"ignore\")"
   ]
  },
  {
   "cell_type": "code",
   "execution_count": 14,
   "id": "f3e337e7-0054-43ff-b772-0a7d5b4e7f07",
   "metadata": {},
   "outputs": [
    {
     "name": "stdout",
     "output_type": "stream",
     "text": [
      "[[ 7  0  0  1  0  1]\n",
      " [ 0 13  1  1  0  1]\n",
      " [ 1  0 16  1  0  0]\n",
      " [ 3  3  1 19  0  0]\n",
      " [ 0  0  0  1 14  0]\n",
      " [ 1  1  0  0  0  4]]\n",
      "              precision    recall  f1-score   support\n",
      "\n",
      "           A       0.78      0.58      0.67        12\n",
      "           B       0.81      0.76      0.79        17\n",
      "           C       0.89      0.89      0.89        18\n",
      "           D       0.73      0.83      0.78        23\n",
      "           E       0.93      1.00      0.97        14\n",
      "           S       0.67      0.67      0.67         6\n",
      "\n",
      "    accuracy                           0.81        90\n",
      "   macro avg       0.80      0.79      0.79        90\n",
      "weighted avg       0.81      0.81      0.81        90\n",
      "\n"
     ]
    }
   ],
   "source": [
    "file = pd.read_csv(\"~/Desktop/Columbia 2024/Most Streamed Spotify Songs 2024.csv\", encoding='latin1')\n",
    "\n",
    "#manipulation on the original dataset\n",
    "file['Spotify Streams'] = file['Spotify Streams'].replace(\",\", \"\", regex=True)\n",
    "file['Spotify Streams'] = pd.to_numeric(file['Spotify Streams'], downcast='integer', errors='coerce').fillna(0)\n",
    "file['Spotify Streams'] = file['Spotify Streams'].astype(np.float64)\n",
    "candidates = [x for x in list(file.columns) if ('View' in x) or ('Like' in x) or ('Count' in x) or ('Rank' in x) or 'Stations' in x or 'Reach' in x or 'Stream' in x or 'Post' in x or 'Spin' in x]\n",
    "for i in candidates:\n",
    "    file[i] = file[i].replace(\",\", \"\", regex=True)\n",
    "    file[i] = pd.to_numeric(file[i], downcast='integer', errors='coerce').fillna(0)\n",
    "    file[i] = file[i].astype(np.float64)\n",
    "\n",
    "#organize the original dataset into a more artists-oriented format\n",
    "adf = file.groupby('Artist')['Spotify Streams'].apply(np.mean).rename_axis('Artist').reset_index(name='Average Spotify Streams')\n",
    "adf['Track Counts'] = adf['Artist'].map(file['Artist'].value_counts())\n",
    "for i in ['Spotify Playlist Count', 'Spotify Playlist Reach', 'Spotify Popularity', 'YouTube Views', 'YouTube Likes', 'TikTok Posts', 'TikTok Likes', 'TikTok Views', 'YouTube Playlist Reach', 'Apple Music Playlist Count', 'AirPlay Spins', 'SiriusXM Spins', 'Deezer Playlist Count', 'Deezer Playlist Reach', 'Amazon Playlist Count', 'Pandora Streams', 'Pandora Track Stations', 'Soundcloud Streams', 'Shazam Counts']:\n",
    "    adf['Average ' + i] = (file.groupby('Artist')[i].apply(np.mean).reset_index(name='1'))['1']\n",
    "\n",
    "#community classification as a training attribute\n",
    "training_tiers = pd.read_csv(\"~/Desktop/Columbia 2024/artist_tiers.csv\", encoding='latin1')\n",
    "training_tiers = training_tiers.loc[training_tiers['Tier'].isin(['S','A','B','C','D','E'])]\n",
    "adf['Is Training'] = adf['Artist'].isin(training_tiers['Artist'])\n",
    "adf = adf.join(training_tiers.set_index('Artist'), on='Artist')\n",
    "\n",
    "#split into training and testing dataset\n",
    "x_train = adf[adf['Is Training'] == True].dropna()\n",
    "y_train = x_train['Tier']\n",
    "x_train = x_train.drop(columns=['Artist', 'Is Training', 'Tier'])\n",
    "x_test = adf[adf['Is Training'] == False]\n",
    "x_test = x_test.drop(columns=['Artist', 'Is Training', 'Tier']).dropna()\n",
    "\n",
    "#model and prediction\n",
    "knn = neighbors.KNeighborsClassifier(n_neighbors= 1)\n",
    "y_pred = knn.fit(x_train, y_train).predict(x_test)\n",
    "\n",
    "#use the model to train on the predicted result to predict the training data to see the goodness of fit\n",
    "y_pred2 = knn.fit(x_test, y_pred).predict(x_train)\n",
    "print(confusion_matrix(y_train, y_pred2).T)\n",
    "print(classification_report(y_train,y_pred2))"
   ]
  },
  {
   "cell_type": "code",
   "execution_count": 21,
   "id": "2491d2f2-3dd6-48cc-be94-db641c147411",
   "metadata": {},
   "outputs": [
    {
     "name": "stdout",
     "output_type": "stream",
     "text": [
      "1 0.8111111111111111\n",
      "2 0.5222222222222223\n",
      "3 0.5333333333333333\n",
      "4 0.5444444444444444\n",
      "5 0.5111111111111111\n",
      "6 0.45555555555555555\n",
      "7 0.43333333333333335\n",
      "8 0.4\n",
      "9 0.43333333333333335\n",
      "10 0.37777777777777777\n",
      "11 0.43333333333333335\n",
      "12 0.4111111111111111\n",
      "13 0.36666666666666664\n",
      "14 0.34444444444444444\n",
      "15 0.32222222222222224\n",
      "16 0.3\n",
      "17 0.3111111111111111\n",
      "18 0.2777777777777778\n",
      "19 0.3\n",
      "20 0.32222222222222224\n",
      "21 0.32222222222222224\n",
      "22 0.3\n",
      "23 0.3\n",
      "24 0.3\n",
      "25 0.3\n",
      "26 0.3\n",
      "27 0.3111111111111111\n",
      "28 0.3111111111111111\n",
      "29 0.32222222222222224\n",
      "30 0.3111111111111111\n"
     ]
    }
   ],
   "source": [
    "#looking for the best k\n",
    "for i in range(1, 31):\n",
    "    knn = neighbors.KNeighborsClassifier(n_neighbors= i)\n",
    "    y_pred = knn.fit(x_train, y_train).predict(x_test)\n",
    "    \n",
    "    y_pred2 = knn.fit(x_test, y_pred).predict(x_train)\n",
    "    print(i, classification_report(y_train,y_pred2, output_dict=True)['accuracy'])"
   ]
  },
  {
   "cell_type": "code",
   "execution_count": null,
   "id": "5ef73366-d62c-433b-b195-9d781fd3bae0",
   "metadata": {},
   "outputs": [],
   "source": []
  }
 ],
 "metadata": {
  "kernelspec": {
   "display_name": "Python 3 (ipykernel)",
   "language": "python",
   "name": "python3"
  },
  "language_info": {
   "codemirror_mode": {
    "name": "ipython",
    "version": 3
   },
   "file_extension": ".py",
   "mimetype": "text/x-python",
   "name": "python",
   "nbconvert_exporter": "python",
   "pygments_lexer": "ipython3",
   "version": "3.12.4"
  }
 },
 "nbformat": 4,
 "nbformat_minor": 5
}
